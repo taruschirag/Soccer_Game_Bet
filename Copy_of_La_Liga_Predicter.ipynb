{
  "nbformat": 4,
  "nbformat_minor": 0,
  "metadata": {
    "colab": {
      "provenance": [],
      "authorship_tag": "ABX9TyO46mdf+TgkqV/gaBnupMxi",
      "include_colab_link": true
    },
    "kernelspec": {
      "name": "python3",
      "display_name": "Python 3"
    },
    "language_info": {
      "name": "python"
    }
  },
  "cells": [
    {
      "cell_type": "markdown",
      "metadata": {
        "id": "view-in-github",
        "colab_type": "text"
      },
      "source": [
        "<a href=\"https://colab.research.google.com/github/taruschirag/Soccer_Game_Bet/blob/main/Copy_of_La_Liga_Predicter.ipynb\" target=\"_parent\"><img src=\"https://colab.research.google.com/assets/colab-badge.svg\" alt=\"Open In Colab\"/></a>"
      ]
    },
    {
      "cell_type": "code",
      "source": [
        "import pandas as pd\n",
        "from sklearn.model_selection import train_test_split\n",
        "from sklearn.ensemble import RandomForestClassifier\n",
        "from sklearn.metrics import accuracy_score, classification_report\n",
        "from sklearn.preprocessing import LabelEncoder\n",
        "\n",
        "# Load data\n",
        "df = pd.read_csv(\"RealMadrid_20_21.csv\")\n",
        "df = df[[\"Opponent\", \"Full_Result\",\"where?\", 'Month']]\n",
        "\n",
        "# Map 'Win' as 1, 'Draw' as 0, 'Loss' as -1\n",
        "df['Outcome'] = df['Full_Result'].map({'W': 1, 'D': 0, 'L': -1})\n",
        "df['where?'] = df['where?'].map({'Home': 1, 'Away': 0})\n",
        "\n",
        "\n",
        "# Encode 'Opponent' using Label Encoding\n",
        "le = LabelEncoder()\n",
        "df['Opponent'] = le.fit_transform(df['Opponent'])\n",
        "\n",
        "# Discretize Outcome into categories\n",
        "df['Outcome_Category'] = pd.cut(df['Outcome'], bins=[-float('inf'), 0, float('inf')], labels=['Loss', 'Win'])\n",
        "\n",
        "\n",
        "# Feature columns (X) and target variable (y)\n",
        "X = df[['Opponent','where?', 'Month']]\n",
        "y = df['Outcome_Category']\n",
        "\n",
        "# Split data\n",
        "X_train, X_test, y_train, y_test = train_test_split(X, y, test_size=0.2, random_state=42)\n",
        "\n",
        "print(X_train)\n"
      ],
      "metadata": {
        "id": "XbkKw0JLQunX",
        "colab": {
          "base_uri": "https://localhost:8080/"
        },
        "outputId": "63283e05-6ad8-4872-9609-83b67a79a11b"
      },
      "execution_count": 108,
      "outputs": [
        {
          "output_type": "stream",
          "name": "stdout",
          "text": [
            "    Opponent  where?  Month\n",
            "24        18       0     11\n",
            "15         4       1      4\n",
            "17        14       1      5\n",
            "8         12       1      1\n",
            "16        13       1      5\n",
            "12         8       1      3\n",
            "19        15       0      9\n",
            "9          9       1      2\n",
            "32         2       0      3\n",
            "0         17       1      9\n",
            "25        14       0     12\n",
            "5          1       1     12\n",
            "11        15       1      3\n",
            "1          5       1     10\n",
            "37         1       0      5\n",
            "21        12       0     10\n",
            "2         11       1     10\n",
            "29         0       0      1\n",
            "35         5       0      4\n",
            "3          0       1     11\n",
            "34         9       0      4\n",
            "23        16       0     11\n",
            "31        17       0      2\n",
            "10        16       1      2\n",
            "22         3       0     10\n",
            "18        18       1      5\n",
            "20         4       0      9\n",
            "7          6       1      1\n",
            "14         3       1      4\n",
            "28        13       0      1\n"
          ]
        }
      ]
    },
    {
      "cell_type": "code",
      "source": [
        "# Initialize and train the Random Forest classifier\n",
        "model = RandomForestClassifier(random_state=42)\n",
        "model.fit(X_train, y_train)\n",
        "\n",
        "# Make predictions on the test set\n",
        "predictions = model.predict(X_test)\n",
        "\n",
        "# Evaluate the model\n",
        "accuracy = accuracy_score(y_test, predictions)\n",
        "report = classification_report(y_test, predictions)\n",
        "\n",
        "print(f\"Accuracy: {accuracy}\")\n",
        "print(\"Classification Report:\\n\", report)\n",
        "\n"
      ],
      "metadata": {
        "colab": {
          "base_uri": "https://localhost:8080/"
        },
        "id": "cE0pmyMQQzUi",
        "outputId": "1efc193b-69be-4d1f-d149-cb9a30959d91"
      },
      "execution_count": 109,
      "outputs": [
        {
          "output_type": "stream",
          "name": "stdout",
          "text": [
            "Accuracy: 0.75\n",
            "Classification Report:\n",
            "               precision    recall  f1-score   support\n",
            "\n",
            "        Loss       0.00      0.00      0.00         1\n",
            "         Win       0.86      0.86      0.86         7\n",
            "\n",
            "    accuracy                           0.75         8\n",
            "   macro avg       0.43      0.43      0.43         8\n",
            "weighted avg       0.75      0.75      0.75         8\n",
            "\n"
          ]
        }
      ]
    },
    {
      "cell_type": "code",
      "source": [
        "# Now, you can use the trained model to predict the outcome of a new game\n",
        "new_game_data = pd.DataFrame({'Opponent': ['Valencia']})\n",
        "new_game_data['where?'] = 1\n",
        "new_game_data['Month'] = 9\n",
        "new_game_data['Opponent'] = le.transform(new_game_data['Opponent'])\n",
        "\n",
        "\n",
        "\n",
        "\n",
        "\n"
      ],
      "metadata": {
        "id": "EfceARCIQ3Tb"
      },
      "execution_count": 110,
      "outputs": []
    },
    {
      "cell_type": "code",
      "source": [
        "# Discretize the predicted outcome\n",
        "predicted_outcome = model.predict(new_game_data[['Opponent','where?','Month']])\n",
        "print(predicted_outcome)\n",
        "\n",
        "if predicted_outcome == 'Win':\n",
        "    print(\"Real Madrid is predicted to win the next game!\")\n",
        "else:\n",
        "    print(\"Real Madrid is predicted to lose the next game.\")"
      ],
      "metadata": {
        "colab": {
          "base_uri": "https://localhost:8080/"
        },
        "id": "azK7j1Z8Q6KN",
        "outputId": "15b3282e-d9c4-4c40-efc3-d7af8f21c6b5"
      },
      "execution_count": 112,
      "outputs": [
        {
          "output_type": "stream",
          "name": "stdout",
          "text": [
            "['Loss']\n",
            "Real Madrid is predicted to lose the next game.\n"
          ]
        }
      ]
    },
    {
      "cell_type": "code",
      "source": [
        "from sklearn.preprocessing import StandardScaler\n",
        "scaler = StandardScaler()\n",
        "X_train_scaled = scaler.fit_transform(X_train)\n",
        "X_test_scaled = scaler.transform(X_test)\n",
        "feature_importances = model.feature_importances_\n",
        "\n",
        "# Print feature importances\n",
        "for feature, importance in zip(X.columns, feature_importances):\n",
        "    print(f\"{feature}: {importance}\")"
      ],
      "metadata": {
        "colab": {
          "base_uri": "https://localhost:8080/"
        },
        "id": "QzbK5NVakp_P",
        "outputId": "6c45b181-b799-406d-9177-a3269c15477b"
      },
      "execution_count": 115,
      "outputs": [
        {
          "output_type": "stream",
          "name": "stdout",
          "text": [
            "Opponent: 0.5577009920346795\n",
            "where?: 0.052709126292761525\n",
            "Month: 0.3895898816725589\n"
          ]
        }
      ]
    }
  ]
}